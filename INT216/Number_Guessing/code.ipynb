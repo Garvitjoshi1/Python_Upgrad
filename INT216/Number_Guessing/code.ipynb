{
 "cells": [
  {
   "attachments": {},
   "cell_type": "markdown",
   "metadata": {},
   "source": [
    "* Number Guessing Game - Python Project \n",
    "This is a simple number guessing game. The user has to guess a number between 1 and 100. After every guess, the program tells the user whether their number was too large or too small. At the end, the number of tries needed should be printed. It counts only as one try if they input the same number multiple times consecutively."
   ]
  },
  {
   "cell_type": "code",
   "execution_count": 1,
   "metadata": {},
   "outputs": [
    {
     "name": "stdout",
     "output_type": "stream",
     "text": [
      "I'm thinking of a number between 1 and 100. Can you guess it in 5 guesses or less?\n",
      "Too low. Guess again.\n",
      "Too low. Guess again.\n",
      "Too high. Guess again.\n",
      "Too low. Guess again.\n",
      "Too low. Guess again.\n",
      "Sorry, you used up all your guesses. The number was 66 . Better luck next time!\n"
     ]
    }
   ],
   "source": [
    "import random\n",
    "\n",
    "# generate a random number between 1 and 100\n",
    "secret_number = random.randint(1, 100)\n",
    "\n",
    "# set the number of guesses\n",
    "num_guesses = 0\n",
    "max_guesses = 5\n",
    "\n",
    "print(\"I'm thinking of a number between 1 and 100. Can you guess it in\", max_guesses, \"guesses or less?\")\n",
    "\n",
    "# loop until the player runs out of guesses or guesses the correct number\n",
    "while num_guesses < max_guesses:\n",
    "    # ask the player to guess\n",
    "    guess = int(input(\"Guess the number: \"))\n",
    "    num_guesses += 1\n",
    "    \n",
    "    # check if the guess is correct\n",
    "    if guess == secret_number:\n",
    "        print(\"Congratulations! You guessed the number in\", num_guesses, \"guesses.\")\n",
    "        break\n",
    "    elif guess < secret_number:\n",
    "        print(\"Too low. Guess again.\")\n",
    "    else:\n",
    "        print(\"Too high. Guess again.\")\n",
    "        \n",
    "    # check if the player has used up all their guesses\n",
    "    if num_guesses == max_guesses:\n",
    "        print(\"Sorry, you used up all your guesses. The number was\", secret_number, \". Better luck next time!\")\n"
   ]
  }
 ],
 "metadata": {
  "kernelspec": {
   "display_name": "Python 3",
   "language": "python",
   "name": "python3"
  },
  "language_info": {
   "codemirror_mode": {
    "name": "ipython",
    "version": 3
   },
   "file_extension": ".py",
   "mimetype": "text/x-python",
   "name": "python",
   "nbconvert_exporter": "python",
   "pygments_lexer": "ipython3",
   "version": "3.11.3"
  },
  "orig_nbformat": 4
 },
 "nbformat": 4,
 "nbformat_minor": 2
}
