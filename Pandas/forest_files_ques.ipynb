{
 "cells": [
  {
   "cell_type": "code",
   "execution_count": 2,
   "metadata": {},
   "outputs": [
    {
     "name": "stdout",
     "output_type": "stream",
     "text": [
      "                X           Y        FFMC         DMC          DC         ISI  \\\n",
      "count  517.000000  517.000000  517.000000  517.000000  517.000000  517.000000   \n",
      "mean     4.669246    4.299807   90.644681  110.872340  547.940039    9.021663   \n",
      "std      2.313778    1.229900    5.520111   64.046482  248.066192    4.559477   \n",
      "min      1.000000    2.000000   18.700000    1.100000    7.900000    0.000000   \n",
      "25%      3.000000    4.000000   90.200000   68.600000  437.700000    6.500000   \n",
      "50%      4.000000    4.000000   91.600000  108.300000  664.200000    8.400000   \n",
      "75%      7.000000    5.000000   92.900000  142.400000  713.900000   10.800000   \n",
      "max      9.000000    9.000000   96.200000  291.300000  860.600000   56.100000   \n",
      "\n",
      "             temp          RH        wind        rain         area  \n",
      "count  517.000000  517.000000  517.000000  517.000000   517.000000  \n",
      "mean    18.889168   44.288201    4.017602    0.021663    12.847292  \n",
      "std      5.806625   16.317469    1.791653    0.295959    63.655818  \n",
      "min      2.200000   15.000000    0.400000    0.000000     0.000000  \n",
      "25%     15.500000   33.000000    2.700000    0.000000     0.000000  \n",
      "50%     19.300000   42.000000    4.000000    0.000000     0.520000  \n",
      "75%     22.800000   53.000000    4.900000    0.000000     6.570000  \n",
      "max     33.300000  100.000000    9.400000    6.400000  1090.840000  \n",
      "Index(['X', 'Y', 'month', 'day', 'FFMC', 'DMC', 'DC', 'ISI', 'temp', 'RH',\n",
      "       'wind', 'rain', 'area'],\n",
      "      dtype='object')\n",
      "(517, 13)\n"
     ]
    }
   ],
   "source": [
    "import numpy as np\n",
    "import pandas as pd\n",
    "df = pd.read_csv('https://query.data.world/s/vBDCsoHCytUSLKkLvq851k2b8JOCkF')\n",
    "print(df.describe())\n",
    "print(df.columns)\n",
    "print(df.shape)\n"
   ]
  }
 ],
 "metadata": {
  "kernelspec": {
   "display_name": "Python 3",
   "language": "python",
   "name": "python3"
  },
  "language_info": {
   "codemirror_mode": {
    "name": "ipython",
    "version": 3
   },
   "file_extension": ".py",
   "mimetype": "text/x-python",
   "name": "python",
   "nbconvert_exporter": "python",
   "pygments_lexer": "ipython3",
   "version": "3.11.3"
  },
  "orig_nbformat": 4
 },
 "nbformat": 4,
 "nbformat_minor": 2
}
