{
 "cells": [
  {
   "attachments": {},
   "cell_type": "markdown",
   "metadata": {},
   "source": [
    "* Q1: You have a list of integers, and you want to check if any of the numbers are even. Write a\n",
    "  function to accomplish this task. Test the code with examples. Write comments and docstring to\n",
    "  explain the code."
   ]
  },
  {
   "cell_type": "code",
   "execution_count": 1,
   "metadata": {},
   "outputs": [
    {
     "name": "stdout",
     "output_type": "stream",
     "text": [
      "[27, 87, 33, 20, 18, 97, 57, 22, 62, 14]\n",
      "True\n"
     ]
    }
   ],
   "source": [
    "import random\n",
    "def check_even(num_list):\n",
    "    for num in num_list:\n",
    "        if num%2 == 0:\n",
    "            return True\n",
    "    return False\n",
    "num_list = [random.randint(1,100) for i in range(10)]\n",
    "print(num_list)\n",
    "print(check_even(num_list))"
   ]
  },
  {
   "attachments": {},
   "cell_type": "markdown",
   "metadata": {},
   "source": [
    "* Q2: Write a function that asks the user to enter a number and then prints the number with commas.\n",
    "      Test the code with examples. Write comments and docstring to explain the code."
   ]
  },
  {
   "cell_type": "code",
   "execution_count": 2,
   "metadata": {},
   "outputs": [
    {
     "name": "stdout",
     "output_type": "stream",
     "text": [
      "91613767\n",
      "91,613,767\n"
     ]
    }
   ],
   "source": [
    "import random\n",
    "def add_commas(num):\n",
    "    return \"{:,}\".format(num)\n",
    "num = random.randint(1000,100000000)\n",
    "print(num)\n",
    "print(add_commas(num))"
   ]
  },
  {
   "attachments": {},
   "cell_type": "markdown",
   "metadata": {},
   "source": [
    "* Q3: You are building a program that takes user input and checks if it is a palindrome. Write a\n",
    "      function to achieve this. Test the code with examples. Write comments and docstring to explain\n",
    "      the code."
   ]
  },
  {
   "cell_type": "code",
   "execution_count": 2,
   "metadata": {},
   "outputs": [
    {
     "name": "stdout",
     "output_type": "stream",
     "text": [
      "123\n",
      "False\n"
     ]
    }
   ],
   "source": [
    "import random\n",
    "def is_palindrome(word):\n",
    "    return word == word[::-1]\n",
    "word = input(\"Enter a word: \")\n",
    "print(word)\n",
    "print(is_palindrome(word))"
   ]
  },
  {
   "attachments": {},
   "cell_type": "markdown",
   "metadata": {},
   "source": [
    "* Q4: Write a function that asks the user to enter a number, checks if it is prime, and then prints a\n",
    "      message informing the user of the result. Test the code with examples. Write comments and\n",
    "      docstring to explain the code."
   ]
  },
  {
   "cell_type": "code",
   "execution_count": 3,
   "metadata": {},
   "outputs": [
    {
     "name": "stdout",
     "output_type": "stream",
     "text": [
      "80\n",
      "False\n"
     ]
    }
   ],
   "source": [
    "import random\n",
    "def is_prime(num):\n",
    "    if num == 1:\n",
    "        return False\n",
    "    for i in range(2,num):\n",
    "        if num%i == 0:\n",
    "            return False\n",
    "    return True\n",
    "num = random.randint(1,100)\n",
    "print(num)\n",
    "print(is_prime(num))"
   ]
  },
  {
   "attachments": {},
   "cell_type": "markdown",
   "metadata": {},
   "source": [
    "* Q5:You are building a program that reads data from a text file and writes it to a new text file, with\n",
    "     each line of the original file concatenated with the line number. Write a function to accomplish\n",
    "     this task. Test the code with examples. Write comments and docstring to explain the code"
   ]
  },
  {
   "cell_type": "code",
   "execution_count": 8,
   "metadata": {},
   "outputs": [],
   "source": [
    "import random\n",
    "def read_write_file(file_name):\n",
    "    with open(file_name) as f:\n",
    "        lines = f.readlines()\n",
    "    with open(\"new_\"+file_name,\"w\") as f:\n",
    "        for i,line in enumerate(lines):\n",
    "            f.write(str(i+1)+\". \"+line)\n",
    "file_name = input(\"Enter file name: \")\n",
    "read_write_file(file_name)\n",
    "\n"
   ]
  }
 ],
 "metadata": {
  "kernelspec": {
   "display_name": "Python 3",
   "language": "python",
   "name": "python3"
  },
  "language_info": {
   "codemirror_mode": {
    "name": "ipython",
    "version": 3
   },
   "file_extension": ".py",
   "mimetype": "text/x-python",
   "name": "python",
   "nbconvert_exporter": "python",
   "pygments_lexer": "ipython3",
   "version": "3.10.9"
  },
  "orig_nbformat": 4
 },
 "nbformat": 4,
 "nbformat_minor": 2
}
